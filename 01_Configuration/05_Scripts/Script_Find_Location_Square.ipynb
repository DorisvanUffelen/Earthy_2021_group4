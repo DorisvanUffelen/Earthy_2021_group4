{
 "cells": [
  {
   "cell_type": "markdown",
   "metadata": {},
   "source": [
    "# Explanation script\n",
    "### Doris van Uffelen 31-10-2021\n",
    "\n",
    "In this script a location for a market square is found in our plot. It uses an example grid and not the actual size of the grid for clarity. \n",
    "First, a base grid, with the functions placed before is used for creating the needed contextual information. Then, the voxels of the square\n",
    "are placed one by one. Each time the script runs, a different possible outcome is generated.\n",
    "\n",
    "## Import and install\n",
    "All needed libraries are imported and installed.\n",
    "\n",
    "## Plot maps\n",
    "Consists of functions that can later be used to plot the lattices\n",
    "\n",
    "## Setting the base grid\n",
    "An example grid is manually filled in, to use as base and information for the rest of the grid.\n",
    "This can be exchanged by input from the actual grid.\n",
    "Also a lattice is made for all free space.\n",
    "\n",
    "## Find neighbours\n",
    "A neumann stencil is created for finding neighbours.\n",
    "Then a function is written for finding neighbours.\n",
    "\n",
    "A lattice is made with all voxels next to a road, the function and stencil for finding neighbours are used.\n",
    "A lattice is made with all voxels not next to a road, the function and stencil for finding neighbours are used.\n",
    "\n",
    "## Find location for square\n",
    "Function for choosing 1 random possible location out of a list.\n",
    "Function for finding direct neighbours.\n",
    "\n",
    "A location for the square is found by placing each voxel one by one after each other.\n",
    "All voxels have their own conditions.\n",
    "\n",
    "There are multiple possibilities, each time the plot runs it finds a new location."
   ]
  },
  {
   "cell_type": "markdown",
   "metadata": {},
   "source": [
    "# import and install"
   ]
  },
  {
   "cell_type": "code",
   "execution_count": 75,
   "metadata": {},
   "outputs": [],
   "source": [
    "# !python -m pip install -e ../topogenesis"
   ]
  },
  {
   "cell_type": "code",
   "execution_count": 76,
   "metadata": {},
   "outputs": [],
   "source": [
    "# importing NumPy and NetworkX for working with graphs\n",
    "import numpy as np\n",
    "import networkx as nx\n",
    "\n",
    "# importing topogenesis for working with lattices / regular-grids\n",
    "import topogenesis as tg\n",
    "\n",
    "# importing pyvista for visualizations\n",
    "import pyvista as pv\n",
    "\n",
    "# importing Pandas and display for clearer representation of table data and matrices\n",
    "import pandas as pd\n",
    "from IPython.display import display\n",
    "\n",
    "import matplotlib.pyplot as plt"
   ]
  },
  {
   "cell_type": "markdown",
   "metadata": {},
   "source": [
    "# Plot maps"
   ]
  },
  {
   "cell_type": "code",
   "execution_count": 77,
   "metadata": {},
   "outputs": [],
   "source": [
    "# function for printing grids with custom color maps\n",
    "\n",
    "def image(base_lattice, color_map):\n",
    "    # Change the shape of the lattice so only the groundfloor is plotted\n",
    "    lattice = np.copy(base_lattice)\n",
    "    lattice.transpose(1, 0, 2)\n",
    "    color_lattice = lattice[:, 1, :]\n",
    "\n",
    "    # Add custom color map\n",
    "    image = np.array([[color_map[val] for val in row] for row in color_lattice], dtype='int')\n",
    "    return plt.imshow(image)"
   ]
  },
  {
   "cell_type": "code",
   "execution_count": 78,
   "metadata": {},
   "outputs": [],
   "source": [
    "# define color map \n",
    "color_map = {0: np.array([255, 255, 255]), # white\n",
    "             2: np.array([152, 141, 96]), # green/grey\n",
    "             3: np.array([178, 192, 163]), # light grey\n",
    "             4: np.array([70, 83, 99]), # dark blue\n",
    "             5: np.array([199, 143, 82])} # orange"
   ]
  },
  {
   "cell_type": "code",
   "execution_count": 79,
   "metadata": {},
   "outputs": [],
   "source": [
    "#  function for printing grids with only 0 and 1\n",
    "\n",
    "def boolean_image(base_lattice):\n",
    "    # Change the shape of the lattice so only the groundfloor is plotted\n",
    "    lattice = np.copy(base_lattice)\n",
    "    lattice.transpose(1, 0, 2)\n",
    "    color_lattice = lattice[:, 1, :]\n",
    "    \n",
    "    return plt.imshow(color_lattice, \"Greens\")"
   ]
  },
  {
   "cell_type": "markdown",
   "metadata": {},
   "source": [
    "# setting the base grid"
   ]
  },
  {
   "cell_type": "code",
   "execution_count": 80,
   "metadata": {},
   "outputs": [],
   "source": [
    "# Functions:\n",
    "\n",
    "Functions = { \n",
    "    \"empty\" : 0,\n",
    "    \"water\" : 1,\n",
    "    \"road\" : 2,\n",
    "    \"souk\" : 3,\n",
    "    \"well\" : 4,\n",
    "    \"square\" : 5,\n",
    "    \"Water workshop\" : 6,\n",
    "    \"non-water workshop\" : 7,\n",
    "    \"shop\" : 8,\n",
    "    \"house\" : 9}\n"
   ]
  },
  {
   "cell_type": "code",
   "execution_count": 81,
   "metadata": {},
   "outputs": [
    {
     "data": {
      "text/plain": [
       "<matplotlib.image.AxesImage at 0x26994fa81c0>"
      ]
     },
     "execution_count": 81,
     "metadata": {},
     "output_type": "execute_result"
    },
    {
     "data": {
      "image/png": "[encoded data removed]",
      "text/plain": [
       "<Figure size 432x288 with 1 Axes>"
      ]
     },
     "metadata": {
      "needs_background": "light"
     },
     "output_type": "display_data"
    }
   ],
   "source": [
    "# Define the grid \n",
    "len_x = 7\n",
    "len_y = 7\n",
    "len_z = 3\n",
    "\n",
    "# length and width of matrix\n",
    "len_grid = len_y, len_z, len_x\n",
    "# Initialize the empty matrix\n",
    "base_grid = np.zeros(len_grid, dtype=int)\n",
    "\n",
    "# place water\n",
    "base_grid[4, 2, :] = 1\n",
    "\n",
    "# place main road\n",
    "base_grid[3, 1, :] = 2\n",
    "base_grid[:, 1, 2] = 2\n",
    "\n",
    "# place souk\n",
    "base_grid[:3, 1, 6] = 3\n",
    "\n",
    "# place well\n",
    "base_grid[4, 1, 4] = 4\n",
    "\n",
    "original_base_lattice = tg.to_lattice(base_grid, minbound=0, unit=1)\n",
    "image(original_base_lattice, color_map)"
   ]
  },
  {
   "cell_type": "code",
   "execution_count": 82,
   "metadata": {},
   "outputs": [
    {
     "data": {
      "text/plain": [
       "<matplotlib.image.AxesImage at 0x26994ffcfd0>"
      ]
     },
     "execution_count": 82,
     "metadata": {},
     "output_type": "execute_result"
    },
    {
     "data": {
      "image/png": "[encoded data removed]",
      "text/plain": [
       "<Figure size 432x288 with 1 Axes>"
      ]
     },
     "metadata": {
      "needs_background": "light"
     },
     "output_type": "display_data"
    }
   ],
   "source": [
    "# Find all voxels without functions and mark them with 1, all locations with functions become 0\n",
    "bool_base_lattice = (original_base_lattice > 0).astype(int)\n",
    "free_space_lattice = 1 - bool_base_lattice\n",
    "\n",
    "boolean_image(free_space_lattice)"
   ]
  },
  {
   "cell_type": "markdown",
   "metadata": {},
   "source": [
    "# Find neighbours"
   ]
  },
  {
   "cell_type": "markdown",
   "metadata": {},
   "source": [
    "## create neighbour stencil"
   ]
  },
  {
   "cell_type": "code",
   "execution_count": 83,
   "metadata": {},
   "outputs": [
    {
     "data": {
      "text/plain": [
       "<matplotlib.image.AxesImage at 0x26995070040>"
      ]
     },
     "execution_count": 83,
     "metadata": {},
     "output_type": "execute_result"
    },
    {
     "data": {
      "image/png": "[encoded data removed]",
      "text/plain": [
       "<Figure size 432x288 with 1 Axes>"
      ]
     },
     "metadata": {
      "needs_background": "light"
     },
     "output_type": "display_data"
    }
   ],
   "source": [
    "# creating neuman neighborhood definition\n",
    "neumann_stencil = tg.create_stencil(\"von_neumann\", 1, 1)\n",
    "# setting the center and -1 and 1 floor to zero\n",
    "neumann_stencil[1,:,1] = 0\n",
    "\n",
    "boolean_image(neumann_stencil)"
   ]
  },
  {
   "cell_type": "markdown",
   "metadata": {},
   "source": [
    "## function for finding neighbours"
   ]
  },
  {
   "cell_type": "code",
   "execution_count": 84,
   "metadata": {},
   "outputs": [],
   "source": [
    "# main loop for breath-first traversal\n",
    "def dist_lattice(index_func,neighs,max_dist, base_lattice):\n",
    "    func_lattice = base_lattice == index_func\n",
    "    func_neighs_lattice = 1 - func_lattice\n",
    "    func_neighs_lattice[func_neighs_lattice == 1] = max_dist\n",
    "    dist_lattice_flat = func_neighs_lattice.flatten()\n",
    "\n",
    "    for i in range(1, max_dist):\n",
    "        # find the neighbours of the previous step\n",
    "        next_step = neighs[dist_lattice_flat == i - 1]\n",
    "        # make a copy of the lattice to prevent overwriting in the memory\n",
    "        next_dist_lattice_flat = np.copy(dist_lattice_flat)\n",
    "        # set the next step cells to the current distance\n",
    "        next_dist_lattice_flat[next_step.flatten()] = i\n",
    "        # find the minimum of the current distance and previous distances to avoid overwriting previous steps\n",
    "        dist_lattice_flat = np.minimum(dist_lattice_flat, next_dist_lattice_flat)\n",
    "        \n",
    "        # check how many of the cells have not been traversed yet\n",
    "        filled_check = dist_lattice_flat == max_dist\n",
    "        # if all the cells have been traversed, break the loop\n",
    "        if filled_check.sum() == 0:\n",
    "            print(i)\n",
    "            break\n",
    "\n",
    "    # reshape and construct a lattice from the street network distance list\n",
    "    dist_lattice = dist_lattice_flat.reshape(base_lattice.shape)\n",
    "\n",
    "    return dist_lattice"
   ]
  },
  {
   "cell_type": "markdown",
   "metadata": {},
   "source": [
    "## find voxels next to streets"
   ]
  },
  {
   "cell_type": "code",
   "execution_count": 85,
   "metadata": {},
   "outputs": [
    {
     "data": {
      "text/plain": [
       "<matplotlib.image.AxesImage at 0x269950cbc40>"
      ]
     },
     "execution_count": 85,
     "metadata": {},
     "output_type": "execute_result"
    },
    {
     "data": {
      "image/png": "[encoded data removed]",
      "text/plain": [
       "<Figure size 432x288 with 1 Axes>"
      ]
     },
     "metadata": {
      "needs_background": "light"
     },
     "output_type": "display_data"
    }
   ],
   "source": [
    "# input neighs function\n",
    "neighs_streets = original_base_lattice.find_neighbours(neumann_stencil)\n",
    "max_dist = np.sum(original_base_lattice.shape)\n",
    "index_street = 2\n",
    "\n",
    "# find neighbours of the streets\n",
    "street_neigh_lattice = dist_lattice(index_street,neighs_streets,max_dist, original_base_lattice)\n",
    "street_neigh_lattice[street_neigh_lattice >= 2] = 0\n",
    "street_neigh_lattice[street_neigh_lattice == 1] = max_dist\n",
    "\n",
    "boolean_image(street_neigh_lattice)"
   ]
  },
  {
   "cell_type": "markdown",
   "metadata": {},
   "source": [
    "## find voxels not next to streets"
   ]
  },
  {
   "cell_type": "code",
   "execution_count": 86,
   "metadata": {},
   "outputs": [
    {
     "data": {
      "text/plain": [
       "<matplotlib.image.AxesImage at 0x2699512bc10>"
      ]
     },
     "execution_count": 86,
     "metadata": {},
     "output_type": "execute_result"
    },
    {
     "data": {
      "image/png": "[encoded data removed]",
      "text/plain": [
       "<Figure size 432x288 with 1 Axes>"
      ]
     },
     "metadata": {
      "needs_background": "light"
     },
     "output_type": "display_data"
    }
   ],
   "source": [
    "# Using input from previous street_dist_lattice invert lattice to find all locations not next to a road\n",
    "street_no_neigh_lattice = np.copy(street_neigh_lattice)\n",
    "street_no_neigh_lattice[street_no_neigh_lattice == 0] = 1\n",
    "street_no_neigh_lattice[street_no_neigh_lattice == max_dist] = 0\n",
    "\n",
    "boolean_image(street_no_neigh_lattice)"
   ]
  },
  {
   "cell_type": "markdown",
   "metadata": {},
   "source": [
    "# find location for square"
   ]
  },
  {
   "cell_type": "code",
   "execution_count": 87,
   "metadata": {},
   "outputs": [],
   "source": [
    "def locate_func(func_dist_lattice):\n",
    "    # Find location\n",
    "    possible_locations = np.flatnonzero(func_dist_lattice == np.max(func_dist_lattice))\n",
    "    best_location = np.random.choice(possible_locations , size = None, replace = False, p = None)\n",
    "    return best_location\n",
    "\n",
    "def voxel_neigh_lattice(best_location):\n",
    "    # make empty lattice\n",
    "    voxel_grid = np.zeros(original_base_lattice.shape, dtype=int)\n",
    "    voxel_lattice = tg.to_lattice(voxel_grid, minbound=0, unit=1)\n",
    "    np.put(voxel_lattice, [best_location], [1])\n",
    "\n",
    "    # find neighbours\n",
    "    neighs_voxel = voxel_lattice.find_neighbours(neumann_stencil)\n",
    "    max_dist = np.sum(voxel_lattice.shape)\n",
    "    voxel_neigh_lattice = dist_lattice(1,neighs_voxel,max_dist,voxel_lattice)\n",
    "    voxel_neigh_lattice[voxel_neigh_lattice >= 2] = 0\n",
    "    voxel_neigh_lattice[voxel_neigh_lattice == 1] = 2\n",
    "    return voxel_neigh_lattice"
   ]
  },
  {
   "cell_type": "code",
   "execution_count": 90,
   "metadata": {},
   "outputs": [
    {
     "name": "stdout",
     "output_type": "stream",
     "text": [
      "[8, 29, 28, 7]\n"
     ]
    },
    {
     "name": "stderr",
     "output_type": "stream",
     "text": [
      "c:\\users\\doris\\documents\\bt3\\earthy\\w3_graphs_fields\\topogenesis\\topogenesis\\datastructures\\datastructures.py:1107: VisibleDeprecationWarning: Creating an ndarray from ragged nested sequences (which is a list-or-tuple of lists-or-tuples-or ndarrays with different lengths or shapes) is deprecated. If you meant to do this, you must specify 'dtype=object' when creating the ndarray.\n",
      "  bounds = np.array([minbound, minbound + unit * (np.array(a.shape) - 1)])\n",
      "c:\\users\\doris\\documents\\bt3\\earthy\\w3_graphs_fields\\topogenesis\\topogenesis\\datastructures\\datastructures.py:32: VisibleDeprecationWarning: Creating an ndarray from ragged nested sequences (which is a list-or-tuple of lists-or-tuples-or ndarrays with different lengths or shapes) is deprecated. If you meant to do this, you must specify 'dtype=object' when creating the ndarray.\n",
      "  bounds = np.array([minbound, maxbound])*unit\n"
     ]
    },
    {
     "data": {
      "text/plain": [
       "<matplotlib.image.AxesImage at 0x269951fe700>"
      ]
     },
     "execution_count": 90,
     "metadata": {},
     "output_type": "execute_result"
    },
    {
     "data": {
      "image/png": "[encoded data removed]",
      "text/plain": [
       "<Figure size 432x288 with 1 Axes>"
      ]
     },
     "metadata": {
      "needs_background": "light"
     },
     "output_type": "display_data"
    }
   ],
   "source": [
    "# locate first voxel of square\n",
    "func_dist_lattice = street_neigh_lattice * free_space_lattice\n",
    "first_voxel = locate_func(func_dist_lattice)\n",
    "\n",
    "# find neighboours of first voxel\n",
    "first_voxel_neigh_lattice = voxel_neigh_lattice(first_voxel)\n",
    "\n",
    "\n",
    "# locate second voxel\n",
    "func_dist_lattice = first_voxel_neigh_lattice * street_neigh_lattice * free_space_lattice\n",
    "second_voxel = locate_func(func_dist_lattice)\n",
    "\n",
    "# find neighboours of second voxel\n",
    "second_voxel_neigh_lattice = voxel_neigh_lattice(second_voxel)\n",
    "\n",
    "\n",
    "# locate third voxel\n",
    "func_dist_lattice  = second_voxel_neigh_lattice * street_no_neigh_lattice * free_space_lattice\n",
    "third_voxel = locate_func(func_dist_lattice)\n",
    "\n",
    "# find neighboours of third voxel\n",
    "third_voxel_neigh_lattice = voxel_neigh_lattice(third_voxel)\n",
    "\n",
    "\n",
    "# locate fourth voxel\n",
    "func_dist_lattice = first_voxel_neigh_lattice * third_voxel_neigh_lattice * street_no_neigh_lattice * free_space_lattice\n",
    "fourth_voxel = locate_func(func_dist_lattice)\n",
    "\n",
    "\n",
    "# Add voxels to list\n",
    "indeces_square = []\n",
    "indeces_square.append(first_voxel) \n",
    "indeces_square.append(second_voxel) \n",
    "indeces_square.append(third_voxel) \n",
    "indeces_square.append(fourth_voxel) \n",
    "\n",
    "# place squares in lattice\n",
    "square_lattice = np.copy(original_base_lattice)\n",
    "np.put(square_lattice, indeces_square, 5)\n",
    "\n",
    "print(indeces_square)\n",
    "image(square_lattice, color_map)\n"
   ]
  }
 ],
 "metadata": {
  "interpreter": {
   "hash": "630d16d09d6c64c4e84cd7c2f8f8b404d15197b921b24e5a0f362b5e7e19554f"
  },
  "kernelspec": {
   "display_name": "Python 3.8.11 64-bit ('earthy': conda)",
   "name": "python3"
  },
  "language_info": {
   "codemirror_mode": {
    "name": "ipython",
    "version": 3
   },
   "file_extension": ".py",
   "mimetype": "text/x-python",
   "name": "python",
   "nbconvert_exporter": "python",
   "pygments_lexer": "ipython3",
   "version": "3.8.11"
  },
  "orig_nbformat": 4
 },
 "nbformat": 4,
 "nbformat_minor": 2
}
