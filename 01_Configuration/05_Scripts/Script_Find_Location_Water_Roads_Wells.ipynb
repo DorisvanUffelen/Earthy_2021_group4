{
 "cells": [
  {
   "cell_type": "markdown",
   "metadata": {},
   "source": [
    "# From rules to floorplan"
   ]
  },
  {
   "cell_type": "markdown",
   "metadata": {},
   "source": [
    "Date: 19-10-2021\n",
    "Author: Marnix van den Assum\n",
    "\n",
    "This code is made to go from written rules to a configuration. In the first part libraries are imported, a grid is made and the canals are added manually. Later the roads are added and wells are placed."
   ]
  },
  {
   "cell_type": "markdown",
   "metadata": {},
   "source": [
    "## 1. Import libraries"
   ]
  },
  {
   "cell_type": "code",
   "execution_count": 318,
   "metadata": {},
   "outputs": [],
   "source": [
    "# importing NumPy for using matrices\n",
    "import numpy as np\n",
    "\n",
    "# importing Pandas and display for clearer representation of table data and matrices\n",
    "import pandas as pd\n",
    "from IPython.display import display"
   ]
  },
  {
   "cell_type": "markdown",
   "metadata": {},
   "source": [
    "## 2.1 Define grid size"
   ]
  },
  {
   "cell_type": "code",
   "execution_count": 319,
   "metadata": {},
   "outputs": [],
   "source": [
    "# Define the grid size\n",
    "len_vertical = 14\n",
    "len_horizontal = 24"
   ]
  },
  {
   "cell_type": "markdown",
   "metadata": {},
   "source": [
    "## 2.2 Canals"
   ]
  },
  {
   "cell_type": "code",
   "execution_count": 320,
   "metadata": {},
   "outputs": [
    {
     "name": "stdout",
     "output_type": "stream",
     "text": [
      "[(0, 12), (1, 12), (2, 12), (3, 12), (4, 12), (4, 11), (4, 10), (4, 9), (4, 8), (4, 7), (4, 6), (4, 5), (5, 5), (6, 5), (7, 5), (8, 5), (9, 5), (10, 5), (11, 5), (12, 5), (13, 5), (10, 6), (10, 7), (10, 8), (10, 9), (10, 10), (10, 11), (10, 12), (10, 13), (10, 14), (10, 15), (10, 16), (10, 17), (10, 18), (10, 19), (10, 20), (10, 21), (10, 22), (10, 23)]\n"
     ]
    }
   ],
   "source": [
    "# The canals are manual input as a list of coordinates\n",
    "\n",
    "stream_1= [\n",
    "    \n",
    "    (0, 12),\n",
    "    (1, 12),\n",
    "    (2, 12),\n",
    "    (3, 12),\n",
    "\n",
    "    (4, 12),\n",
    "    (4, 11),\n",
    "    (4, 10),\n",
    "    (4, 9),\n",
    "    (4, 8),\n",
    "    (4, 7),\n",
    "    (4, 6),\n",
    "\n",
    "    (4, 5),\n",
    "    (5, 5),\n",
    "    (6, 5),\n",
    "    (7, 5),\n",
    "    (8, 5),\n",
    "    (9, 5),\n",
    "    (10, 5),\n",
    "    (11, 5),\n",
    "    (12, 5),\n",
    "    (13, 5),\n",
    "]\n",
    "\n",
    "stream_2 = [\n",
    "\n",
    "    (10, 6),\n",
    "    (10, 7),\n",
    "    (10, 8),\n",
    "    (10, 9),\n",
    "    (10, 10),\n",
    "    (10, 11),\n",
    "    (10, 12),\n",
    "    (10, 13),\n",
    "    (10, 14),\n",
    "    (10, 15),\n",
    "    (10, 16),\n",
    "    (10, 17),\n",
    "    (10, 18),\n",
    "    (10, 19),\n",
    "    (10, 20),\n",
    "    (10, 21),\n",
    "    (10, 22),\n",
    "    (10, 23),\n",
    "] \n",
    "\n",
    "# Combine the streams\n",
    "water = (stream_1 + stream_2)\n",
    "\n",
    "print(water)"
   ]
  },
  {
   "cell_type": "markdown",
   "metadata": {},
   "source": [
    "## 2.3 Place canals on the map"
   ]
  },
  {
   "cell_type": "code",
   "execution_count": 321,
   "metadata": {},
   "outputs": [
    {
     "data": {
      "text/html": [
       "<div>\n",
       "<style scoped>\n",
       "    .dataframe tbody tr th:only-of-type {\n",
       "        vertical-align: middle;\n",
       "    }\n",
       "\n",
       "    .dataframe tbody tr th {\n",
       "        vertical-align: top;\n",
       "    }\n",
       "\n",
       "    .dataframe thead th {\n",
       "        text-align: right;\n",
       "    }\n",
       "</style>\n",
       "<table border=\"1\" class=\"dataframe\">\n",
       "  <thead>\n",
       "    <tr style=\"text-align: right;\">\n",
       "      <th></th>\n",
       "      <th>0</th>\n",
       "      <th>1</th>\n",
       "      <th>2</th>\n",
       "      <th>3</th>\n",
       "      <th>4</th>\n",
       "      <th>5</th>\n",
       "      <th>6</th>\n",
       "      <th>7</th>\n",
       "      <th>8</th>\n",
       "      <th>9</th>\n",
       "      <th>...</th>\n",
       "      <th>14</th>\n",
       "      <th>15</th>\n",
       "      <th>16</th>\n",
       "      <th>17</th>\n",
       "      <th>18</th>\n",
       "      <th>19</th>\n",
       "      <th>20</th>\n",
       "      <th>21</th>\n",
       "      <th>22</th>\n",
       "      <th>23</th>\n",
       "    </tr>\n",
       "  </thead>\n",
       "  <tbody>\n",
       "    <tr>\n",
       "      <th>0</th>\n",
       "      <td>0</td>\n",
       "      <td>0</td>\n",
       "      <td>0</td>\n",
       "      <td>0</td>\n",
       "      <td>0</td>\n",
       "      <td>0</td>\n",
       "      <td>0</td>\n",
       "      <td>0</td>\n",
       "      <td>0</td>\n",
       "      <td>0</td>\n",
       "      <td>...</td>\n",
       "      <td>0</td>\n",
       "      <td>0</td>\n",
       "      <td>0</td>\n",
       "      <td>0</td>\n",
       "      <td>0</td>\n",
       "      <td>0</td>\n",
       "      <td>0</td>\n",
       "      <td>0</td>\n",
       "      <td>0</td>\n",
       "      <td>0</td>\n",
       "    </tr>\n",
       "    <tr>\n",
       "      <th>1</th>\n",
       "      <td>0</td>\n",
       "      <td>0</td>\n",
       "      <td>0</td>\n",
       "      <td>0</td>\n",
       "      <td>0</td>\n",
       "      <td>0</td>\n",
       "      <td>0</td>\n",
       "      <td>0</td>\n",
       "      <td>0</td>\n",
       "      <td>0</td>\n",
       "      <td>...</td>\n",
       "      <td>0</td>\n",
       "      <td>0</td>\n",
       "      <td>0</td>\n",
       "      <td>0</td>\n",
       "      <td>0</td>\n",
       "      <td>0</td>\n",
       "      <td>0</td>\n",
       "      <td>0</td>\n",
       "      <td>0</td>\n",
       "      <td>0</td>\n",
       "    </tr>\n",
       "    <tr>\n",
       "      <th>2</th>\n",
       "      <td>0</td>\n",
       "      <td>0</td>\n",
       "      <td>0</td>\n",
       "      <td>0</td>\n",
       "      <td>0</td>\n",
       "      <td>0</td>\n",
       "      <td>0</td>\n",
       "      <td>0</td>\n",
       "      <td>0</td>\n",
       "      <td>0</td>\n",
       "      <td>...</td>\n",
       "      <td>0</td>\n",
       "      <td>0</td>\n",
       "      <td>0</td>\n",
       "      <td>0</td>\n",
       "      <td>0</td>\n",
       "      <td>0</td>\n",
       "      <td>0</td>\n",
       "      <td>0</td>\n",
       "      <td>0</td>\n",
       "      <td>0</td>\n",
       "    </tr>\n",
       "    <tr>\n",
       "      <th>3</th>\n",
       "      <td>0</td>\n",
       "      <td>0</td>\n",
       "      <td>0</td>\n",
       "      <td>0</td>\n",
       "      <td>0</td>\n",
       "      <td>0</td>\n",
       "      <td>0</td>\n",
       "      <td>0</td>\n",
       "      <td>0</td>\n",
       "      <td>0</td>\n",
       "      <td>...</td>\n",
       "      <td>0</td>\n",
       "      <td>0</td>\n",
       "      <td>0</td>\n",
       "      <td>0</td>\n",
       "      <td>0</td>\n",
       "      <td>0</td>\n",
       "      <td>0</td>\n",
       "      <td>0</td>\n",
       "      <td>0</td>\n",
       "      <td>0</td>\n",
       "    </tr>\n",
       "    <tr>\n",
       "      <th>4</th>\n",
       "      <td>0</td>\n",
       "      <td>0</td>\n",
       "      <td>0</td>\n",
       "      <td>0</td>\n",
       "      <td>0</td>\n",
       "      <td>1</td>\n",
       "      <td>1</td>\n",
       "      <td>1</td>\n",
       "      <td>1</td>\n",
       "      <td>1</td>\n",
       "      <td>...</td>\n",
       "      <td>0</td>\n",
       "      <td>0</td>\n",
       "      <td>0</td>\n",
       "      <td>0</td>\n",
       "      <td>0</td>\n",
       "      <td>0</td>\n",
       "      <td>0</td>\n",
       "      <td>0</td>\n",
       "      <td>0</td>\n",
       "      <td>0</td>\n",
       "    </tr>\n",
       "    <tr>\n",
       "      <th>5</th>\n",
       "      <td>0</td>\n",
       "      <td>0</td>\n",
       "      <td>0</td>\n",
       "      <td>0</td>\n",
       "      <td>0</td>\n",
       "      <td>1</td>\n",
       "      <td>0</td>\n",
       "      <td>0</td>\n",
       "      <td>0</td>\n",
       "      <td>0</td>\n",
       "      <td>...</td>\n",
       "      <td>0</td>\n",
       "      <td>0</td>\n",
       "      <td>0</td>\n",
       "      <td>0</td>\n",
       "      <td>0</td>\n",
       "      <td>0</td>\n",
       "      <td>0</td>\n",
       "      <td>0</td>\n",
       "      <td>0</td>\n",
       "      <td>0</td>\n",
       "    </tr>\n",
       "    <tr>\n",
       "      <th>6</th>\n",
       "      <td>0</td>\n",
       "      <td>0</td>\n",
       "      <td>0</td>\n",
       "      <td>0</td>\n",
       "      <td>0</td>\n",
       "      <td>1</td>\n",
       "      <td>0</td>\n",
       "      <td>0</td>\n",
       "      <td>0</td>\n",
       "      <td>0</td>\n",
       "      <td>...</td>\n",
       "      <td>0</td>\n",
       "      <td>0</td>\n",
       "      <td>0</td>\n",
       "      <td>0</td>\n",
       "      <td>0</td>\n",
       "      <td>0</td>\n",
       "      <td>0</td>\n",
       "      <td>0</td>\n",
       "      <td>0</td>\n",
       "      <td>0</td>\n",
       "    </tr>\n",
       "    <tr>\n",
       "      <th>7</th>\n",
       "      <td>0</td>\n",
       "      <td>0</td>\n",
       "      <td>0</td>\n",
       "      <td>0</td>\n",
       "      <td>0</td>\n",
       "      <td>1</td>\n",
       "      <td>0</td>\n",
       "      <td>0</td>\n",
       "      <td>0</td>\n",
       "      <td>0</td>\n",
       "      <td>...</td>\n",
       "      <td>0</td>\n",
       "      <td>0</td>\n",
       "      <td>0</td>\n",
       "      <td>0</td>\n",
       "      <td>0</td>\n",
       "      <td>0</td>\n",
       "      <td>0</td>\n",
       "      <td>0</td>\n",
       "      <td>0</td>\n",
       "      <td>0</td>\n",
       "    </tr>\n",
       "    <tr>\n",
       "      <th>8</th>\n",
       "      <td>0</td>\n",
       "      <td>0</td>\n",
       "      <td>0</td>\n",
       "      <td>0</td>\n",
       "      <td>0</td>\n",
       "      <td>1</td>\n",
       "      <td>0</td>\n",
       "      <td>0</td>\n",
       "      <td>0</td>\n",
       "      <td>0</td>\n",
       "      <td>...</td>\n",
       "      <td>0</td>\n",
       "      <td>0</td>\n",
       "      <td>0</td>\n",
       "      <td>0</td>\n",
       "      <td>0</td>\n",
       "      <td>0</td>\n",
       "      <td>0</td>\n",
       "      <td>0</td>\n",
       "      <td>0</td>\n",
       "      <td>0</td>\n",
       "    </tr>\n",
       "    <tr>\n",
       "      <th>9</th>\n",
       "      <td>0</td>\n",
       "      <td>0</td>\n",
       "      <td>0</td>\n",
       "      <td>0</td>\n",
       "      <td>0</td>\n",
       "      <td>1</td>\n",
       "      <td>0</td>\n",
       "      <td>0</td>\n",
       "      <td>0</td>\n",
       "      <td>0</td>\n",
       "      <td>...</td>\n",
       "      <td>0</td>\n",
       "      <td>0</td>\n",
       "      <td>0</td>\n",
       "      <td>0</td>\n",
       "      <td>0</td>\n",
       "      <td>0</td>\n",
       "      <td>0</td>\n",
       "      <td>0</td>\n",
       "      <td>0</td>\n",
       "      <td>0</td>\n",
       "    </tr>\n",
       "    <tr>\n",
       "      <th>10</th>\n",
       "      <td>0</td>\n",
       "      <td>0</td>\n",
       "      <td>0</td>\n",
       "      <td>0</td>\n",
       "      <td>0</td>\n",
       "      <td>1</td>\n",
       "      <td>1</td>\n",
       "      <td>1</td>\n",
       "      <td>1</td>\n",
       "      <td>1</td>\n",
       "      <td>...</td>\n",
       "      <td>1</td>\n",
       "      <td>1</td>\n",
       "      <td>1</td>\n",
       "      <td>1</td>\n",
       "      <td>1</td>\n",
       "      <td>1</td>\n",
       "      <td>1</td>\n",
       "      <td>1</td>\n",
       "      <td>1</td>\n",
       "      <td>1</td>\n",
       "    </tr>\n",
       "    <tr>\n",
       "      <th>11</th>\n",
       "      <td>0</td>\n",
       "      <td>0</td>\n",
       "      <td>0</td>\n",
       "      <td>0</td>\n",
       "      <td>0</td>\n",
       "      <td>1</td>\n",
       "      <td>0</td>\n",
       "      <td>0</td>\n",
       "      <td>0</td>\n",
       "      <td>0</td>\n",
       "      <td>...</td>\n",
       "      <td>0</td>\n",
       "      <td>0</td>\n",
       "      <td>0</td>\n",
       "      <td>0</td>\n",
       "      <td>0</td>\n",
       "      <td>0</td>\n",
       "      <td>0</td>\n",
       "      <td>0</td>\n",
       "      <td>0</td>\n",
       "      <td>0</td>\n",
       "    </tr>\n",
       "    <tr>\n",
       "      <th>12</th>\n",
       "      <td>0</td>\n",
       "      <td>0</td>\n",
       "      <td>0</td>\n",
       "      <td>0</td>\n",
       "      <td>0</td>\n",
       "      <td>1</td>\n",
       "      <td>0</td>\n",
       "      <td>0</td>\n",
       "      <td>0</td>\n",
       "      <td>0</td>\n",
       "      <td>...</td>\n",
       "      <td>0</td>\n",
       "      <td>0</td>\n",
       "      <td>0</td>\n",
       "      <td>0</td>\n",
       "      <td>0</td>\n",
       "      <td>0</td>\n",
       "      <td>0</td>\n",
       "      <td>0</td>\n",
       "      <td>0</td>\n",
       "      <td>0</td>\n",
       "    </tr>\n",
       "    <tr>\n",
       "      <th>13</th>\n",
       "      <td>0</td>\n",
       "      <td>0</td>\n",
       "      <td>0</td>\n",
       "      <td>0</td>\n",
       "      <td>0</td>\n",
       "      <td>1</td>\n",
       "      <td>0</td>\n",
       "      <td>0</td>\n",
       "      <td>0</td>\n",
       "      <td>0</td>\n",
       "      <td>...</td>\n",
       "      <td>0</td>\n",
       "      <td>0</td>\n",
       "      <td>0</td>\n",
       "      <td>0</td>\n",
       "      <td>0</td>\n",
       "      <td>0</td>\n",
       "      <td>0</td>\n",
       "      <td>0</td>\n",
       "      <td>0</td>\n",
       "      <td>0</td>\n",
       "    </tr>\n",
       "  </tbody>\n",
       "</table>\n",
       "<p>14 rows × 24 columns</p>\n",
       "</div>"
      ],
      "text/plain": [
       "    0   1   2   3   4   5   6   7   8   9   ...  14  15  16  17  18  19  20  \\\n",
       "0    0   0   0   0   0   0   0   0   0   0  ...   0   0   0   0   0   0   0   \n",
       "1    0   0   0   0   0   0   0   0   0   0  ...   0   0   0   0   0   0   0   \n",
       "2    0   0   0   0   0   0   0   0   0   0  ...   0   0   0   0   0   0   0   \n",
       "3    0   0   0   0   0   0   0   0   0   0  ...   0   0   0   0   0   0   0   \n",
       "4    0   0   0   0   0   1   1   1   1   1  ...   0   0   0   0   0   0   0   \n",
       "5    0   0   0   0   0   1   0   0   0   0  ...   0   0   0   0   0   0   0   \n",
       "6    0   0   0   0   0   1   0   0   0   0  ...   0   0   0   0   0   0   0   \n",
       "7    0   0   0   0   0   1   0   0   0   0  ...   0   0   0   0   0   0   0   \n",
       "8    0   0   0   0   0   1   0   0   0   0  ...   0   0   0   0   0   0   0   \n",
       "9    0   0   0   0   0   1   0   0   0   0  ...   0   0   0   0   0   0   0   \n",
       "10   0   0   0   0   0   1   1   1   1   1  ...   1   1   1   1   1   1   1   \n",
       "11   0   0   0   0   0   1   0   0   0   0  ...   0   0   0   0   0   0   0   \n",
       "12   0   0   0   0   0   1   0   0   0   0  ...   0   0   0   0   0   0   0   \n",
       "13   0   0   0   0   0   1   0   0   0   0  ...   0   0   0   0   0   0   0   \n",
       "\n",
       "    21  22  23  \n",
       "0    0   0   0  \n",
       "1    0   0   0  \n",
       "2    0   0   0  \n",
       "3    0   0   0  \n",
       "4    0   0   0  \n",
       "5    0   0   0  \n",
       "6    0   0   0  \n",
       "7    0   0   0  \n",
       "8    0   0   0  \n",
       "9    0   0   0  \n",
       "10   1   1   1  \n",
       "11   0   0   0  \n",
       "12   0   0   0  \n",
       "13   0   0   0  \n",
       "\n",
       "[14 rows x 24 columns]"
      ]
     },
     "metadata": {},
     "output_type": "display_data"
    }
   ],
   "source": [
    "# VV is a matrix with this shape: number of nodes by number of nodes\n",
    "len_level_0 = len_vertical, len_horizontal\n",
    "# Initialize the empty VV\n",
    "level_0 = np.zeros(len_level_0, dtype=int)\n",
    "\n",
    "# Iterate over the egdes.\n",
    "for n1, n2 in water:\n",
    "    level_0[n1, n2] = 1 # Water pixels are shown as 1\n",
    "\n",
    "# display as pandas dataframe\n",
    "map_display = display(pd.DataFrame(level_0))\n",
    "map_display"
   ]
  },
  {
   "cell_type": "markdown",
   "metadata": {},
   "source": [
    "# 3. Merchant roads"
   ]
  },
  {
   "cell_type": "markdown",
   "metadata": {},
   "source": [
    "## 3.1 Find row and column with most water"
   ]
  },
  {
   "cell_type": "code",
   "execution_count": 322,
   "metadata": {},
   "outputs": [
    {
     "name": "stdout",
     "output_type": "stream",
     "text": [
      "Max water row: 10 Max water column: 5\n",
      "Water modules in row: 19 . Water modules in column: 10\n"
     ]
    }
   ],
   "source": [
    "# Find the row and column with the most water\n",
    "canal_row = level_0.sum(axis=1).argmax()\n",
    "canal_column = np.argmax(np.max(level_0, axis=0))\n",
    "\n",
    "# Count the amount of water modules\n",
    "water_modules_in_row = np.count_nonzero(level_0[canal_row])\n",
    "water_modules_in_column = np.count_nonzero(level_0[:,canal_column])\n",
    "\n",
    "print(\"Max water row:\",canal_row, \"Max water column:\", canal_column)\n",
    "print(\"Water modules in row:\", water_modules_in_row, \". Water modules in column:\", water_modules_in_column)"
   ]
  },
  {
   "cell_type": "markdown",
   "metadata": {},
   "source": [
    "## 3.2 Find row and column most central"
   ]
  },
  {
   "cell_type": "code",
   "execution_count": 323,
   "metadata": {},
   "outputs": [
    {
     "name": "stdout",
     "output_type": "stream",
     "text": [
      "The central row is: 7 The central column is: 12\n"
     ]
    }
   ],
   "source": [
    "# Find the row and column that are most central\n",
    "central_row = int(len_vertical // 2)\n",
    "central_column = int(len_horizontal // 2)\n",
    "\n",
    "print(\"The central row is:\", central_row, \"The central column is:\", central_column)\n"
   ]
  },
  {
   "cell_type": "markdown",
   "metadata": {},
   "source": [
    "## 3.3.1 Horizontal road"
   ]
  },
  {
   "cell_type": "code",
   "execution_count": 324,
   "metadata": {},
   "outputs": [
    {
     "name": "stdout",
     "output_type": "stream",
     "text": [
      "The potential rows are: [9, 11]\n",
      "Horizontal road: 9\n"
     ]
    }
   ],
   "source": [
    "# Potential rows where the roads can be placed\n",
    "row_above = canal_row -1\n",
    "row_below = canal_row + 1\n",
    "\n",
    "potential_roads_horizontal = [row_above,row_below]\n",
    "print(\"The potential rows are:\", potential_roads_horizontal)\n",
    "\n",
    "# Function for picking the right one\n",
    "def find_nearest(potential_roads_horizontal, central_row):\n",
    "    array = np.asarray(potential_roads_horizontal)\n",
    "    idx = (np.abs(array - central_row)).argmin(0)\n",
    "    return array[idx]\n",
    "\n",
    "# Call function\n",
    "horizontal_road = find_nearest(potential_roads_horizontal, central_row)\n",
    "\n",
    "print(\"Horizontal road:\", horizontal_road)"
   ]
  },
  {
   "cell_type": "markdown",
   "metadata": {},
   "source": [
    "## 3.3.2 Horizontal road"
   ]
  },
  {
   "cell_type": "code",
   "execution_count": 325,
   "metadata": {},
   "outputs": [
    {
     "name": "stdout",
     "output_type": "stream",
     "text": [
      "The potential columns are: [4, 6]\n",
      "vertical road: 6\n"
     ]
    }
   ],
   "source": [
    "# Potential columns where the roads can be placed\n",
    "column_above = canal_column -1\n",
    "column_below = canal_column + 1\n",
    "\n",
    "potential_roads_vertical = [column_above,column_below]\n",
    "print(\"The potential columns are:\", potential_roads_vertical)\n",
    "\n",
    "# Function for picking the right one\n",
    "def find_nearest(potential_roads_vertical, central_column):\n",
    "    array = np.asarray(potential_roads_vertical)\n",
    "    idx = (np.abs(array - central_column)).argmin(0)\n",
    "    return array[idx]\n",
    "\n",
    "# Call function\n",
    "vertical_road = find_nearest(potential_roads_vertical, central_column)\n",
    "\n",
    "print(\"vertical road:\", vertical_road)"
   ]
  },
  {
   "cell_type": "markdown",
   "metadata": {},
   "source": [
    "## 3.4 Plot roads on map"
   ]
  },
  {
   "cell_type": "code",
   "execution_count": 326,
   "metadata": {},
   "outputs": [
    {
     "name": "stdout",
     "output_type": "stream",
     "text": [
      "[[0 0 0 0 0 0 2 0 0 0 0 0 1 0 0 0 0 0 0 0 0 0 0 0]\n",
      " [0 0 0 0 0 0 2 0 0 0 0 0 1 0 0 0 0 0 0 0 0 0 0 0]\n",
      " [0 0 0 0 0 0 2 0 0 0 0 0 1 0 0 0 0 0 0 0 0 0 0 0]\n",
      " [0 0 0 0 0 0 2 0 0 0 0 0 1 0 0 0 0 0 0 0 0 0 0 0]\n",
      " [0 0 0 0 0 1 2 1 1 1 1 1 1 0 0 0 0 0 0 0 0 0 0 0]\n",
      " [0 0 0 0 0 1 2 0 0 0 0 0 0 0 0 0 0 0 0 0 0 0 0 0]\n",
      " [0 0 0 0 0 1 2 0 0 0 0 0 0 0 0 0 0 0 0 0 0 0 0 0]\n",
      " [0 0 0 0 0 1 2 0 0 0 0 0 0 0 0 0 0 0 0 0 0 0 0 0]\n",
      " [0 0 0 0 0 1 2 0 0 0 0 0 0 0 0 0 0 0 0 0 0 0 0 0]\n",
      " [2 2 2 2 2 2 2 2 2 2 2 2 2 2 2 2 2 2 2 2 2 2 2 2]\n",
      " [0 0 0 0 0 1 2 1 1 1 1 1 1 1 1 1 1 1 1 1 1 1 1 1]\n",
      " [0 0 0 0 0 1 2 0 0 0 0 0 0 0 0 0 0 0 0 0 0 0 0 0]\n",
      " [0 0 0 0 0 1 2 0 0 0 0 0 0 0 0 0 0 0 0 0 0 0 0 0]\n",
      " [0 0 0 0 0 1 2 0 0 0 0 0 0 0 0 0 0 0 0 0 0 0 0 0]]\n"
     ]
    }
   ],
   "source": [
    "# Plot roads on the grid\n",
    "level_0[ horizontal_road, : ] = [2]\n",
    "level_0[ :, vertical_road ] = [2]\n",
    "\n",
    "print(level_0)\n"
   ]
  },
  {
   "cell_type": "markdown",
   "metadata": {},
   "source": [
    "## 3.5 List of the coordinates of road"
   ]
  },
  {
   "cell_type": "code",
   "execution_count": 327,
   "metadata": {},
   "outputs": [
    {
     "data": {
      "text/plain": [
       "array([[ 0,  6],\n",
       "       [ 1,  6],\n",
       "       [ 2,  6],\n",
       "       [ 3,  6],\n",
       "       [ 4,  6],\n",
       "       [ 5,  6],\n",
       "       [ 6,  6],\n",
       "       [ 7,  6],\n",
       "       [ 8,  6],\n",
       "       [ 9,  0],\n",
       "       [ 9,  1],\n",
       "       [ 9,  2],\n",
       "       [ 9,  3],\n",
       "       [ 9,  4],\n",
       "       [ 9,  5],\n",
       "       [ 9,  6],\n",
       "       [ 9,  7],\n",
       "       [ 9,  8],\n",
       "       [ 9,  9],\n",
       "       [ 9, 10],\n",
       "       [ 9, 11],\n",
       "       [ 9, 12],\n",
       "       [ 9, 13],\n",
       "       [ 9, 14],\n",
       "       [ 9, 15],\n",
       "       [ 9, 16],\n",
       "       [ 9, 17],\n",
       "       [ 9, 18],\n",
       "       [ 9, 19],\n",
       "       [ 9, 20],\n",
       "       [ 9, 21],\n",
       "       [ 9, 22],\n",
       "       [ 9, 23],\n",
       "       [10,  6],\n",
       "       [11,  6],\n",
       "       [12,  6],\n",
       "       [13,  6]], dtype=int64)"
      ]
     },
     "execution_count": 327,
     "metadata": {},
     "output_type": "execute_result"
    }
   ],
   "source": [
    "# Make a list of merchant roads. The output is used when going to a 3D matrix (distinct between floors)\n",
    "roads_list = np.argwhere(level_0 == 2)\n",
    "roads_list"
   ]
  },
  {
   "cell_type": "markdown",
   "metadata": {},
   "source": [
    "# 4. Sub-roads"
   ]
  },
  {
   "cell_type": "markdown",
   "metadata": {},
   "source": [
    "## 4.1 Define sub-roads and plot on map"
   ]
  },
  {
   "cell_type": "code",
   "execution_count": 328,
   "metadata": {},
   "outputs": [
    {
     "name": "stdout",
     "output_type": "stream",
     "text": [
      "[[0 0 0 0 0 0 2 0 0 0 0 0 2 0 0 0 0 0 2 0 0 0 0 0]\n",
      " [0 0 0 0 0 0 2 0 0 0 0 0 2 0 0 0 0 0 2 0 0 0 0 0]\n",
      " [0 0 0 0 0 0 2 0 0 0 0 0 2 0 0 0 0 0 2 0 0 0 0 0]\n",
      " [0 0 0 0 0 0 2 0 0 0 0 0 2 0 0 0 0 0 2 0 0 0 0 0]\n",
      " [0 0 0 0 0 1 2 1 1 1 1 1 2 0 0 0 0 0 2 0 0 0 0 0]\n",
      " [0 0 0 0 0 1 2 0 0 0 0 0 2 0 0 0 0 0 2 0 0 0 0 0]\n",
      " [0 0 0 0 0 1 2 0 0 0 0 0 2 0 0 0 0 0 2 0 0 0 0 0]\n",
      " [0 0 0 0 0 1 2 0 0 0 0 0 2 0 0 0 0 0 2 0 0 0 0 0]\n",
      " [0 0 0 0 0 1 2 0 0 0 0 0 2 0 0 0 0 0 2 0 0 0 0 0]\n",
      " [2 2 2 2 2 2 2 2 2 2 2 2 2 2 2 2 2 2 2 2 2 2 2 2]\n",
      " [0 0 0 0 0 1 2 1 1 1 1 1 2 1 1 1 1 1 2 1 1 1 1 1]\n",
      " [0 0 0 0 0 1 2 0 0 0 0 0 2 0 0 0 0 0 2 0 0 0 0 0]\n",
      " [0 0 0 0 0 1 2 0 0 0 0 0 2 0 0 0 0 0 2 0 0 0 0 0]\n",
      " [0 0 0 0 0 1 2 0 0 0 0 0 2 0 0 0 0 0 2 0 0 0 0 0]]\n"
     ]
    }
   ],
   "source": [
    "# Define distance between roads\n",
    "distance_between_roads = 6\n",
    "\n",
    "# Find the location of the sub-roads\n",
    "sub_roads = np.arange(start=vertical_road, stop=len_horizontal, step=distance_between_roads)\n",
    "\n",
    "# Place the sub-roads in the grid\n",
    "level_0[:, sub_roads] = [2]\n",
    "\n",
    "print (level_0)"
   ]
  },
  {
   "cell_type": "markdown",
   "metadata": {},
   "source": [
    "## 4.1 List of the coordinates of roads and sub-roads"
   ]
  },
  {
   "cell_type": "code",
   "execution_count": 329,
   "metadata": {},
   "outputs": [
    {
     "data": {
      "text/plain": [
       "array([[ 0,  6],\n",
       "       [ 0, 12],\n",
       "       [ 0, 18],\n",
       "       [ 1,  6],\n",
       "       [ 1, 12],\n",
       "       [ 1, 18],\n",
       "       [ 2,  6],\n",
       "       [ 2, 12],\n",
       "       [ 2, 18],\n",
       "       [ 3,  6],\n",
       "       [ 3, 12],\n",
       "       [ 3, 18],\n",
       "       [ 4,  6],\n",
       "       [ 4, 12],\n",
       "       [ 4, 18],\n",
       "       [ 5,  6],\n",
       "       [ 5, 12],\n",
       "       [ 5, 18],\n",
       "       [ 6,  6],\n",
       "       [ 6, 12],\n",
       "       [ 6, 18],\n",
       "       [ 7,  6],\n",
       "       [ 7, 12],\n",
       "       [ 7, 18],\n",
       "       [ 8,  6],\n",
       "       [ 8, 12],\n",
       "       [ 8, 18],\n",
       "       [ 9,  0],\n",
       "       [ 9,  1],\n",
       "       [ 9,  2],\n",
       "       [ 9,  3],\n",
       "       [ 9,  4],\n",
       "       [ 9,  5],\n",
       "       [ 9,  6],\n",
       "       [ 9,  7],\n",
       "       [ 9,  8],\n",
       "       [ 9,  9],\n",
       "       [ 9, 10],\n",
       "       [ 9, 11],\n",
       "       [ 9, 12],\n",
       "       [ 9, 13],\n",
       "       [ 9, 14],\n",
       "       [ 9, 15],\n",
       "       [ 9, 16],\n",
       "       [ 9, 17],\n",
       "       [ 9, 18],\n",
       "       [ 9, 19],\n",
       "       [ 9, 20],\n",
       "       [ 9, 21],\n",
       "       [ 9, 22],\n",
       "       [ 9, 23],\n",
       "       [10,  6],\n",
       "       [10, 12],\n",
       "       [10, 18],\n",
       "       [11,  6],\n",
       "       [11, 12],\n",
       "       [11, 18],\n",
       "       [12,  6],\n",
       "       [12, 12],\n",
       "       [12, 18],\n",
       "       [13,  6],\n",
       "       [13, 12],\n",
       "       [13, 18]], dtype=int64)"
      ]
     },
     "execution_count": 329,
     "metadata": {},
     "output_type": "execute_result"
    }
   ],
   "source": [
    "# Make a list of sub-roads. The output is used when going to a 3D matrix (distinct between floors)\n",
    "sub_roads_list = np.argwhere(level_0 == 2)\n",
    "sub_roads_list"
   ]
  },
  {
   "cell_type": "markdown",
   "metadata": {},
   "source": [
    "## 5.1 Possible places for well"
   ]
  },
  {
   "cell_type": "code",
   "execution_count": 330,
   "metadata": {},
   "outputs": [
    {
     "name": "stdout",
     "output_type": "stream",
     "text": [
      "[0 0 0 0 0 0 2 0 0 0 0 0 2 0 0 0 0 0 2 0 0 0 0 0]\n",
      "[0 0 0 0 0 0 2 0 0 0 0 0 2 0 0 0 0 0 2 0 0 0 0 0]\n",
      "[0 0 0 0 0 0 2 0 0 0 0 0 2 0 0 0 0 0 2 0 0 0 0 0]\n",
      "[0 0 0 0 0 0 2 0 0 0 0 0 2 0 0 0 0 0 2 0 0 0 0 0]\n",
      "[0 0 0 0 0 1 2 1 1 5 1 1 2 0 0 0 0 0 2 0 0 0 0 0]\n",
      "[0 0 0 0 0 1 2 0 0 0 0 0 2 0 0 0 0 0 2 0 0 0 0 0]\n",
      "[0 0 0 0 0 1 2 0 0 0 0 0 2 0 0 0 0 0 2 0 0 0 0 0]\n",
      "[0 0 0 0 0 5 2 0 0 0 0 0 2 0 0 0 0 0 2 0 0 0 0 0]\n",
      "[0 0 0 0 0 1 2 0 0 0 0 0 2 0 0 0 0 0 2 0 0 0 0 0]\n",
      "[2 2 2 2 2 2 2 2 2 2 2 2 2 2 2 2 2 2 2 2 2 2 2 2]\n",
      "[0 0 0 0 0 1 2 1 1 5 1 1 2 1 1 5 1 1 2 1 1 5 1 1]\n",
      "[0 0 0 0 0 1 2 0 0 0 0 0 2 0 0 0 0 0 2 0 0 0 0 0]\n",
      "[0 0 0 0 0 1 2 0 0 0 0 0 2 0 0 0 0 0 2 0 0 0 0 0]\n",
      "[0 0 0 0 0 5 2 0 0 0 0 0 2 0 0 0 0 0 2 0 0 0 0 0]\n"
     ]
    }
   ],
   "source": [
    "# Make a list of all coordinates where a well can be placed. This means finding the water modules\n",
    "potential_wells = np.argwhere(level_0 == 1)\n",
    "\n",
    "# Function that makes tuples that can be used to place wells on the grid\n",
    "def make_tuples(a):\n",
    "    try:\n",
    "        return tuple(make_tuples(i) for i in a)\n",
    "    except TypeError:\n",
    "        return a\n",
    "\n",
    "# Run the function with the potential well spots\n",
    "potential_wells_list = list(make_tuples(potential_wells))\n",
    "\n",
    "# Define the starting point of the wells and define the distance\n",
    "start = 3\n",
    "distance = 5\n",
    "\n",
    "# Find and replace water with wells\n",
    "for i in range(start,len(potential_wells_list),distance):\n",
    "    if level_0[potential_wells_list[i][0],potential_wells_list[i][1]] == 1:\n",
    "        level_0[potential_wells_list[i][0],potential_wells_list[i][1]] = 5\n",
    "\n",
    "for row in level_0:\n",
    "    print(row)"
   ]
  },
  {
   "cell_type": "markdown",
   "metadata": {},
   "source": [
    "## 5.2 List of coordinates of wells"
   ]
  },
  {
   "cell_type": "code",
   "execution_count": 331,
   "metadata": {},
   "outputs": [
    {
     "data": {
      "text/plain": [
       "array([[ 4,  9],\n",
       "       [ 7,  5],\n",
       "       [10,  9],\n",
       "       [10, 15],\n",
       "       [10, 21],\n",
       "       [13,  5]], dtype=int64)"
      ]
     },
     "execution_count": 331,
     "metadata": {},
     "output_type": "execute_result"
    }
   ],
   "source": [
    "# Make a list of wells. The output is used when going to a 3D matrix (distinct between floors)\n",
    "wells = np.argwhere(level_0 == 5)\n",
    "wells"
   ]
  }
 ],
 "metadata": {
  "interpreter": {
   "hash": "4a4faa927a4c5915c3b95d1a7ba23449f3ba499648a200a5ebd7772d5a4395dd"
  },
  "kernelspec": {
   "display_name": "Python 3.8.5 64-bit ('earthy': conda)",
   "name": "python3"
  },
  "language_info": {
   "codemirror_mode": {
    "name": "ipython",
    "version": 3
   },
   "file_extension": ".py",
   "mimetype": "text/x-python",
   "name": "python",
   "nbconvert_exporter": "python",
   "pygments_lexer": "ipython3",
   "version": "3.8.5"
  },
  "orig_nbformat": 4
 },
 "nbformat": 4,
 "nbformat_minor": 2
}
