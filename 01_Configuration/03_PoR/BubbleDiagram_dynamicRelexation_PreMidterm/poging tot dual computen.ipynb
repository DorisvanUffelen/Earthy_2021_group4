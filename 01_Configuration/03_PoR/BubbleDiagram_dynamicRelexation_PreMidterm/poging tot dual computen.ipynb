{
 "cells": [
  {
   "cell_type": "markdown",
   "metadata": {},
   "source": [
    "Zooi importen"
   ]
  },
  {
   "cell_type": "code",
   "execution_count": null,
   "metadata": {},
   "outputs": [],
   "source": [
    "# basic libraries\n",
    "import numpy as np\n",
    "\n",
    "# computational geometry libraries\n",
    "import pyvista as pv\n",
    "from compas.datastructures import Mesh as CompasMesh\n",
    "from compas_plotters.meshplotter import MeshPlotter\n",
    "\n",
    "# libraries for connection to grasshopper (speckle)\n",
    "from specklepy.api.client import SpeckleClient\n",
    "from specklepy.api.credentials import get_default_account\n",
    "from specklepy.transports.server import ServerTransport\n",
    "from specklepy.api import operations\n",
    "\n",
    "# Earthy Bridge\n",
    "import earthy_bridge as eb\n",
    "\n",
    "# extra IPython utilities\n",
    "from IPython.display import display"
   ]
  },
  {
   "cell_type": "markdown",
   "metadata": {},
   "source": [
    "Verbinding maken met speckle"
   ]
  },
  {
   "cell_type": "code",
   "execution_count": null,
   "metadata": {},
   "outputs": [],
   "source": [
    "# initialise the client\n",
    "client = SpeckleClient(host=\"speckle.xyz\", use_ssl=True)\n",
    "\n",
    "# authenticate the client with a token\n",
    "account = get_default_account()\n",
    "client.authenticate(token=account.token)\n",
    "\n",
    "# use that stream id to get the stream from the server\n",
    "mesh_stream = client.stream.get(id=\"481d561078\")\n",
    "\n",
    "# creating a server transport \n",
    "transport = ServerTransport(client=client, stream_id=mesh_stream.id)"
   ]
  },
  {
   "cell_type": "markdown",
   "metadata": {},
   "source": [
    "Import mesh from speckle"
   ]
  },
  {
   "cell_type": "code",
   "execution_count": null,
   "metadata": {},
   "outputs": [],
   "source": [
    "# find base box reference id\n",
    "last_geo_ref = client.commit.list(mesh_stream.id)[0].referencedObject\n",
    "\n",
    "# this receives the object back from the transport.\n",
    "received_mesh = operations.receive(obj_id=last_geo_ref, remote_transport=transport)\n",
    "\n",
    "# visualize the mesh\n",
    "#eb.speckle_to_pyvista(received_mesh).plot()"
   ]
  },
  {
   "cell_type": "code",
   "execution_count": null,
   "metadata": {},
   "outputs": [],
   "source": [
    "# construct the compas mesh\n",
    "(V, F) = eb.speckle_to_vertices_and_faces(received_mesh)"
   ]
  },
  {
   "cell_type": "code",
   "execution_count": null,
   "metadata": {},
   "outputs": [],
   "source": [
    "# construct the compas mesh\n",
    "received_mesh_compas = CompasMesh.from_vertices_and_faces(V,F)"
   ]
  },
  {
   "cell_type": "code",
   "execution_count": null,
   "metadata": {},
   "outputs": [],
   "source": [
    "dual_mesh = received_mesh_compas.dual()\n",
    "dV, dF = dual_mesh.to_vertices_and_faces()"
   ]
  },
  {
   "cell_type": "code",
   "execution_count": null,
   "metadata": {},
   "outputs": [],
   "source": [
    "p = pv.Plotter()\n",
    "p.add_mesh(eb.compas_to_pyvista(dual_mesh))\n",
    "p.show()"
   ]
  },
  {
   "cell_type": "markdown",
   "metadata": {},
   "source": [
    "Export to grashopper"
   ]
  },
  {
   "cell_type": "code",
   "execution_count": null,
   "metadata": {},
   "outputs": [],
   "source": [
    "# construct speckle mesh\n",
    "edited_mesh_speckle = eb.compas_to_speckle(dual_mesh)"
   ]
  },
  {
   "cell_type": "code",
   "execution_count": null,
   "metadata": {},
   "outputs": [],
   "source": [
    "# Serialises the block and sends it to the transport\n",
    "edited_mesh_hash = operations.send(base=edited_mesh_speckle, transports=[transport])\n",
    "\n",
    "# creating a commit on your stream with this object\n",
    "commid_id = client.commit.create(\n",
    "    stream_id=mesh_stream.id, \n",
    "    object_id=edited_mesh_hash, \n",
    "    message=\"edited_mesh\")"
   ]
  },
  {
   "cell_type": "code",
   "execution_count": 11,
   "metadata": {},
   "outputs": [],
   "source": [
    "dual_mesh.to_obj(\"data/dual_mesh.obj\")"
   ]
  },
  {
   "cell_type": "code",
   "execution_count": null,
   "metadata": {},
   "outputs": [],
   "source": []
  }
 ],
 "metadata": {
  "interpreter": {
   "hash": "4a58c2309791fb0e918c70afdff47f4c1510753c34c4dbd916b25e7d0c14133b"
  },
  "kernelspec": {
   "display_name": "Python 3.8.5 64-bit ('earthy': conda)",
   "name": "python3"
  },
  "language_info": {
   "codemirror_mode": {
    "name": "ipython",
    "version": 3
   },
   "file_extension": ".py",
   "mimetype": "text/x-python",
   "name": "python",
   "nbconvert_exporter": "python",
   "pygments_lexer": "ipython3",
   "version": "3.8.5"
  },
  "orig_nbformat": 4
 },
 "nbformat": 4,
 "nbformat_minor": 2
}
